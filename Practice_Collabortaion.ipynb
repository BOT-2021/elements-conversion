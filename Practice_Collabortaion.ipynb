{
  "nbformat": 4,
  "nbformat_minor": 0,
  "metadata": {
    "colab": {
      "private_outputs": true,
      "provenance": [],
      "authorship_tag": "ABX9TyMSdyvqcKPJDfWVdYFOuHDh",
      "include_colab_link": true
    },
    "kernelspec": {
      "name": "python3",
      "display_name": "Python 3"
    },
    "language_info": {
      "name": "python"
    }
  },
  "cells": [
    {
      "cell_type": "markdown",
      "metadata": {
        "id": "view-in-github",
        "colab_type": "text"
      },
      "source": [
        "<a href=\"https://colab.research.google.com/github/DakshCodess/elements-conversion/blob/main/Practice_Collabortaion.ipynb\" target=\"_parent\"><img src=\"https://colab.research.google.com/assets/colab-badge.svg\" alt=\"Open In Colab\"/></a>"
      ]
    },
    {
      "cell_type": "code",
      "execution_count": null,
      "metadata": {
        "id": "cRC3zQrSUK4R"
      },
      "outputs": [],
      "source": [
        "a='10'\n",
        "print((a), type(a))\n",
        "\n",
        "b=int(a)\n",
        "print((b), type(b))"
      ]
    },
    {
      "cell_type": "code",
      "source": [
        "a=10.5\n",
        "print((a), type(a))\n",
        "\n",
        "b=int(10.5)\n",
        "print((b), type(b))"
      ],
      "metadata": {
        "id": "BWlh7yVfUdqk"
      },
      "execution_count": null,
      "outputs": []
    },
    {
      "cell_type": "code",
      "source": [
        "a=False\n",
        "print((a), type(a))\n",
        "\n",
        "b=int(a)\n",
        "print((b), type(b))"
      ],
      "metadata": {
        "id": "Vy2quM3GVWgf"
      },
      "execution_count": null,
      "outputs": []
    },
    {
      "cell_type": "code",
      "source": [],
      "metadata": {
        "id": "bwwJnTUCVWsX"
      },
      "execution_count": null,
      "outputs": []
    },
    {
      "cell_type": "code",
      "execution_count": null,
      "metadata": {
        "id": "DYnabzJKWN9S"
      },
      "outputs": [],
      "source": [
        "a=10\n",
        "print((a), type(a))\n",
        "\n",
        "b=str(a)\n",
        "print((b), type(b))"
      ]
    },
    {
      "cell_type": "code",
      "source": [],
      "metadata": {
        "id": "dKOJ4z0WVWxq"
      },
      "execution_count": null,
      "outputs": []
    },
    {
      "cell_type": "code",
      "execution_count": null,
      "metadata": {
        "id": "jweXxIgbWYgE"
      },
      "outputs": [],
      "source": [
        "a=10.5\n",
        "print((a), type(a))\n",
        "\n",
        "b=str(a)\n",
        "print((b), type(b))"
      ]
    },
    {
      "cell_type": "code",
      "source": [],
      "metadata": {
        "id": "AHh34TPLVW0A"
      },
      "execution_count": null,
      "outputs": []
    },
    {
      "cell_type": "code",
      "execution_count": null,
      "metadata": {
        "id": "3XgKNMEhWfHQ"
      },
      "outputs": [],
      "source": [
        "a=False\n",
        "print((a), type(a))\n",
        "\n",
        "b=str(a)\n",
        "print((b), type(b))"
      ]
    },
    {
      "cell_type": "code",
      "execution_count": null,
      "metadata": {
        "id": "XDFsy_OpWeFT"
      },
      "outputs": [],
      "source": [
        "a=10\n",
        "print((a), type(a))\n",
        "\n",
        "b=bool(a)\n",
        "print((b), type(b))"
      ]
    },
    {
      "cell_type": "code",
      "source": [],
      "metadata": {
        "id": "_mVhwyrQWrrO"
      },
      "execution_count": null,
      "outputs": []
    },
    {
      "cell_type": "code",
      "execution_count": null,
      "metadata": {
        "id": "eNnE4Jx0WspU"
      },
      "outputs": [],
      "source": [
        "a='10'\n",
        "print((a), type(a))\n",
        "\n",
        "b=bool(a)\n",
        "print((b), type(b))"
      ]
    },
    {
      "cell_type": "code",
      "source": [],
      "metadata": {
        "id": "bPkALb92WrtX"
      },
      "execution_count": null,
      "outputs": []
    },
    {
      "cell_type": "code",
      "execution_count": null,
      "metadata": {
        "id": "KSir3E0yWwMl"
      },
      "outputs": [],
      "source": [
        "a=10.4\n",
        "print((a), type(a))\n",
        "\n",
        "b=bool(a)\n",
        "print((b), type(b))"
      ]
    },
    {
      "cell_type": "code",
      "source": [],
      "metadata": {
        "id": "ZqtrJwrlWr7P"
      },
      "execution_count": null,
      "outputs": []
    },
    {
      "cell_type": "code",
      "execution_count": null,
      "metadata": {
        "id": "qAeqQK_dW1k1"
      },
      "outputs": [],
      "source": [
        "a=0\n",
        "print((a), type(a))\n",
        "\n",
        "b=bool(a)\n",
        "print((b), type(b))"
      ]
    },
    {
      "cell_type": "code",
      "source": [],
      "metadata": {
        "id": "hGNlAkv8W-QT"
      },
      "execution_count": null,
      "outputs": []
    },
    {
      "cell_type": "code",
      "execution_count": null,
      "metadata": {
        "id": "OxGNI71vW_R3"
      },
      "outputs": [],
      "source": [
        "a=10\n",
        "print((a), type(a))\n",
        "\n",
        "b=float(a)\n",
        "print((b), type(b))"
      ]
    },
    {
      "cell_type": "code",
      "source": [],
      "metadata": {
        "id": "AhLfmeuLW-SY"
      },
      "execution_count": null,
      "outputs": []
    },
    {
      "cell_type": "code",
      "execution_count": null,
      "metadata": {
        "id": "_HCbaHltXDAJ"
      },
      "outputs": [],
      "source": [
        "a='10'\n",
        "print((a), type(a))\n",
        "\n",
        "b=float(a)\n",
        "print((b), type(b))"
      ]
    },
    {
      "cell_type": "code",
      "source": [],
      "metadata": {
        "id": "WFo6r0EgW-Ud"
      },
      "execution_count": null,
      "outputs": []
    },
    {
      "cell_type": "code",
      "execution_count": null,
      "metadata": {
        "id": "a99fAbQmXGDf"
      },
      "outputs": [],
      "source": [
        "a=True\n",
        "print((a), type(a))\n",
        "\n",
        "b=float(a)\n",
        "print((b), type(b))"
      ]
    },
    {
      "cell_type": "code",
      "source": [],
      "metadata": {
        "id": "7ifFeKoJW-Wt"
      },
      "execution_count": null,
      "outputs": []
    },
    {
      "cell_type": "code",
      "source": [],
      "metadata": {
        "id": "U4JgsBKxW-ZA"
      },
      "execution_count": null,
      "outputs": []
    },
    {
      "cell_type": "code",
      "source": [],
      "metadata": {
        "id": "_T3R3PrkW-bK"
      },
      "execution_count": null,
      "outputs": []
    },
    {
      "cell_type": "code",
      "source": [],
      "metadata": {
        "id": "x4ootAO-W-de"
      },
      "execution_count": null,
      "outputs": []
    }
  ]
}